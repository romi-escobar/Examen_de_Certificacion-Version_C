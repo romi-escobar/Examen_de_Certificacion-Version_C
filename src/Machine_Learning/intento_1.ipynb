{
 "cells": [
  {
   "cell_type": "markdown",
   "metadata": {},
   "source": [
    "## Instrucciones para el examen\n",
    "**Objetivo**: Se tiene como objetivo evaluar la capacidad para limpiar, explorar, implementar y evaluar modelos de regresión en un dataset de precios de casas. Se utiliza el **«House Prices Dataset»** disponible en Kaggle. Se debe demostrar habilidades prácticas en la manipulación de datos, creación de visualizaciones y modelado predictivo.\n"
   ]
  },
  {
   "cell_type": "markdown",
   "metadata": {},
   "source": [
    "## Descripción del Dataset\n",
    "El **«House Prices Dataset»** contiene datos sobre diversas características de casas residenciales en Ames, Iowa. La tarea es predecir el precio final de cada casa (variable objetivo) en función de sus características.\n",
    "\n",
    "#### Diccionario de Datos:\n",
    "* MSSubClass: Clase del edificio.\n",
    "* MSZoning: Clasificación de la zona.\n",
    "* LotFrontage: Frente del lote en pies lineales.\n",
    "* LotArea: Área del lote en pies cuadrados.\n",
    "* Street: Tipo de calle.\n",
    "* Alley: Tipo de callejón.\n",
    "* LotShape: Forma del lote.\n",
    "* LandContour: Contorno del terreno.\n",
    "* Utilities: Servicios públicos disponibles.\n",
    "* LotConfig: Configuración del lote.\n",
    "* LandSlope: Pendiente del terreno.\n",
    "* Neighborhood: Vecindario.\n",
    "* Condition1: Proximidad a diversas condiciones.\n",
    "* Condition2: Proximidad a diversas condiciones (segunda).\n",
    "* BldgType: Tipo de edificio.\n",
    "* HouseStyle: Estilo de la casa.\n",
    "* OverallQual: Calidad general del material y acabado.\n",
    "* OverallCond: Condición general del edificio.\n",
    "* YearBuilt: Año de construcción original.\n",
    "* YearRemodAdd: Año de remodelación o adición.\n",
    "* RoofStyle: Estilo del techo.\n",
    "* RoofMatl: Material del techo.\n",
    "* Exterior1st: Revestimiento exterior de la casa.\n",
    "* Exterior2nd: Revestimiento exterior de la casa (segundo).\n",
    "* MasVnrType: Tipo de revestimiento de mampostería.\n",
    "* MasVnrArea: Área de revestimiento de mampostería en pies cuadrados.\n",
    "* ExterQual: Calidad del material exterior.\n",
    "* ExterCond: Condición del material exterior.\n",
    "* Foundation: Tipo de fundación.\n",
    "* BsmtQual: Altura del sótano.\n",
    "* BsmtCond: Condición general del sótano.\n",
    "* BsmtExposure: Exposición del sótano.\n",
    "* BsmtFinType1: Calidad del acabado del sótano.\n",
    "* BsmtFinSF1: Área terminada del sótano en pies cuadrados.\n",
    "* BsmtFinType2: Calidad del acabado del sótano (segunda).\n",
    "* BsmtFinSF2: Área terminada del sótano (segunda) en pies cuadrados.\n",
    "* BsmtUnfSF: Área no terminada del sótano en pies cuadrados.\n",
    "* TotalBsmtSF: Área total del sótano en pies cuadrados.\n",
    "* Heating: Tipo de calefacción.\n",
    "* HeatingQC: Calidad y condición de la calefacción.\n",
    "* CentralAir: Aire acondicionado central.\n",
    "* Electrical: Sistema eléctrico.\n",
    "* 1stFlrSF: Área del primer piso en pies cuadrados.\n",
    "* 2ndFlrSF: Área del segundo piso en pies cuadrados.\n",
    "* LowQualFinSF: Área terminada de baja calidad en pies cuadrados.\n",
    "* GrLivArea: Área habitable por encima del nivel del suelo en pies cuadrados.\n",
    "* BsmtFullBath: Número de baños completos en el sótano.\n",
    "* BsmtHalfBath: Número de medios baños en el sótano.\n",
    "* FullBath: Número de baños completos por encima del nivel del suelo.\n",
    "* HalfBath: Número de medios baños por encima del nivel del suelo.\n",
    "* Bedroom: Número de dormitorios por encima del nivel del suelo.\n",
    "* Kitchen: Número de cocinas.\n",
    "* KitchenQual: Calidad de la cocina.\n",
    "* TotRmsAbvGrd: Número total de habitaciones por encima del nivel del suelo (excluyendo baños).\n",
    "* Functional: Funcionalidad del hogar.\n",
    "* Fireplaces: Número de chimeneas.\n",
    "* FireplaceQu: Calidad de la chimenea.\n",
    "* GarageType: Ubicación del garaje.\n",
    "* GarageYrBlt: Año en que se construyó el garaje.\n",
    "* GarageFinish: Interior terminado del garaje.\n",
    "* GarageCars: Tamaño del garaje en capacidad de coches.\n",
    "* GarageArea: Área del garaje en pies cuadrados.\n",
    "* GarageQual: Calidad del garaje.\n",
    "* GarageCond: Condición del garaje.\n",
    "* PavedDrive: Entrada pavimentada.\n",
    "* WoodDeckSF: Área de la terraza de madera en pies cuadrados.\n",
    "* OpenPorchSF: Área del porche abierto en pies cuadrados.\n",
    "* EnclosedPorch: Área del porche cerrado en pies cuadrados.\n",
    "* 3SsnPorch: Área del porche de tres estaciones en pies cuadrados.\n",
    "* ScreenPorch: Área del porche de la pantalla en pies cuadrados.\n",
    "* PoolArea: Área de la piscina en pies cuadrados.\n",
    "* PoolQC: Calidad de la piscina.\n",
    "* Fence: Calidad de la cerca.\n",
    "* MiscFeature: Característica miscelánea no cubierta en otras categorías.\n",
    "* MiscVal: Valor misceláneo.\n",
    "* MoSold: Mes en que se vendió la propiedad.\n",
    "* YrSold: Año en que se vendió la propiedad.\n",
    "* SaleType: Tipo de venta.\n",
    "* SaleCondition: Condición de venta.\n",
    "* SalePrice: Precio de venta (variable objetivo)."
   ]
  },
  {
   "cell_type": "markdown",
   "metadata": {},
   "source": [
    "## Requisitos\n",
    "\n",
    "### Limpieza de Datos:\n",
    "* **Identificación y eliminación de valores duplicados**: Asegúrate de que no haya registros duplicados que puedan sesgar los resultados del análisis.\n",
    "* **Verificación y ajuste de tipos de datos**: Verifica que cada columna tenga el tipo de dato correcto (numérico o categórico) y ajusta si es necesario.\n",
    "* **Corrección de inconsistencias en valores categóricos**: Revisa las categorías de las variables y unifica aquellos valores que puedan estar escritos de diferentes maneras pero que representen lo mismo.\n",
    "* **Manejo de valores faltantes adecuadamente**: Identifica y maneja los valores faltantes utilizando técnicas apropiadas como la imputación de la mediana, media o moda, según corresponda."
   ]
  },
  {
   "cell_type": "markdown",
   "metadata": {},
   "source": [
    "#### Importacion de librerias"
   ]
  },
  {
   "cell_type": "code",
   "execution_count": null,
   "metadata": {},
   "outputs": [],
   "source": [
    "import numpy as np\n",
    "import pandas as pd\n",
    "import matplotlib.pyplot as plt\n",
    "import seaborn as sns\n",
    "import scipy.stats as stats\n",
    "#from catboost import CatBoostRegressor\n",
    "from lightgbm import LGBMRegressor\n",
    "from sklearn.ensemble import RandomForestRegressor, RandomForestClassifier\n",
    "from sklearn.exceptions import ConvergenceWarning\n",
    "from sklearn.linear_model import LinearRegression\n",
    "from sklearn.neighbors import KNeighborsRegressor\n",
    "from sklearn.svm import SVR\n",
    "from sklearn.tree import DecisionTreeRegressor\n",
    "from xgboost import XGBRegressor\n",
    "from sklearn.preprocessing import LabelEncoder, OneHotEncoder, RobustScaler\n",
    "from sklearn.metrics import mean_squared_error, f1_score, mean_absolute_error, r2_score\n",
    "from sklearn.linear_model import LinearRegression\n",
    "from sklearn.model_selection import train_test_split, cross_val_score, GridSearchCV\n",
    "from sklearn.impute import SimpleImputer, KNNImputer\n",
    "\n",
    "import warnings\n",
    "warnings.simplefilter(action='ignore', category=FutureWarning)\n",
    "warnings.simplefilter(\"ignore\", category=ConvergenceWarning)\n",
    "warnings.filterwarnings(\"ignore\")"
   ]
  },
  {
   "cell_type": "markdown",
   "metadata": {},
   "source": [
    "#### Configuración inicial\n",
    "* Se configura `pandas` para mostrar todas las columnas y filas.\n",
    "* Se define el formato para números decimales."
   ]
  },
  {
   "cell_type": "code",
   "execution_count": null,
   "metadata": {},
   "outputs": [],
   "source": [
    "pd.set_option('display.max_columns', None)\n",
    "pd.set_option('display.max_rows', None)\n",
    "pd.set_option('display.width', None)\n",
    "pd.set_option('display.float_format', lambda x: '%.3f' % x)"
   ]
  },
  {
   "cell_type": "markdown",
   "metadata": {},
   "source": [
    "#### Carga de datos\n",
    "Los datos de entrenamiento (`train.csv`) y de prueba (`test.csv`) se combinan en un único dataframe `df`."
   ]
  },
  {
   "cell_type": "code",
   "execution_count": null,
   "metadata": {},
   "outputs": [],
   "source": [
    "df_train=pd.read_csv(\"../../data/Machine_Learning/House_Prices/train.csv\")\n",
    "df_test=pd.read_csv(\"../../data/Machine_Learning/House_Prices/test.csv\")"
   ]
  },
  {
   "cell_type": "code",
   "execution_count": null,
   "metadata": {},
   "outputs": [],
   "source": [
    "df=pd.concat([df_train, df_test])\n",
    "df.head()"
   ]
  },
  {
   "cell_type": "markdown",
   "metadata": {},
   "source": [
    "#### Exploracion Inicial\n",
    "La función `check_df` muestra:\n",
    "* Dimensiones (shape).\n",
    "* Tipos de datos (dtypes).\n",
    "* Duplicados.\n",
    "* Valores faltantes.\n",
    "* Valores únicos por columna."
   ]
  },
  {
   "cell_type": "code",
   "execution_count": null,
   "metadata": {},
   "outputs": [],
   "source": [
    "def check_df(dataframe, head=5):\n",
    "    print(\"##################### Shape #####################\")\n",
    "    print(dataframe.shape)\n",
    "    print(\"##################### Types #####################\")\n",
    "    print(dataframe.dtypes)\n",
    "    print(\"##################### Duplicated Values #####################\")\n",
    "    print(dataframe.duplicated().sum())\n",
    "    print(\"##################### Missing Values #####################\")\n",
    "    print(dataframe.isnull().sum())\n",
    "    print(\"##################### Number of Unique Values #####################\")\n",
    "    print(df.nunique())\n",
    "    \n",
    "check_df(df)"
   ]
  },
  {
   "cell_type": "markdown",
   "metadata": {},
   "source": [
    "#### Análisis de variables\n",
    "La función `grab_col_names` clasifica columnas en:\n",
    "* `cat_cols`: categóricas.\n",
    "* `num_cols`: numéricas.\n",
    "* `cat_but_car`: categóricas con alta cardinalidad.\n",
    "\n",
    "Utiliza umbrales (`cat_th` y `car_th`) para determinar estas categorías."
   ]
  },
  {
   "cell_type": "code",
   "execution_count": null,
   "metadata": {},
   "outputs": [],
   "source": [
    "def grab_col_names(dataframe, cat_th=10, car_th=20):\n",
    "    \n",
    "    # cat_cols, cat_but_car\n",
    "    cat_cols = [col for col in dataframe.columns if dataframe[col].dtypes == \"O\"]\n",
    "    num_but_cat = [col for col in dataframe.columns if dataframe[col].nunique() < cat_th and\n",
    "                   dataframe[col].dtypes != \"O\"]\n",
    "    cat_but_car = [col for col in dataframe.columns if dataframe[col].nunique() > car_th and\n",
    "                   dataframe[col].dtypes == \"O\"]\n",
    "    cat_cols = cat_cols + num_but_cat\n",
    "    cat_cols = [col for col in cat_cols if col not in cat_but_car]\n",
    "\n",
    "    # num_cols\n",
    "    num_cols = [col for col in dataframe.columns if dataframe[col].dtypes != \"O\"]\n",
    "    num_cols = [col for col in num_cols if col not in num_but_cat]\n",
    "\n",
    "    print(f\"Observations: {dataframe.shape[0]}\")\n",
    "    print(f\"Variables: {dataframe.shape[1]}\")\n",
    "    print(f\"cat_cols: {len(cat_cols)}\")\n",
    "    print(f\"num_cols: {len(num_cols)}\")\n",
    "    print(f\"cat_but_car: {len(cat_but_car)}\")\n",
    "    print(f\"num_but_cat: {len(num_but_cat)}\")\n",
    "    \n",
    "    return cat_cols, num_cols, cat_but_car"
   ]
  },
  {
   "cell_type": "code",
   "execution_count": null,
   "metadata": {},
   "outputs": [],
   "source": [
    "cat_cols, num_cols, cat_but_car = grab_col_names(df, car_th=25)\n",
    "\n",
    "print(\"#############\")\n",
    "print(f\"Cat_Cols : {cat_cols}\")\n",
    "print(\"#############\")\n",
    "print(f\"Num_Cols : {num_cols}\")\n",
    "print(\"#############\")\n",
    "print(f\"Cat_But_Car : {cat_but_car}\")"
   ]
  },
  {
   "cell_type": "markdown",
   "metadata": {},
   "source": [
    "#### Analisis exploratorio de variables"
   ]
  },
  {
   "cell_type": "markdown",
   "metadata": {},
   "source": [
    "##### Visualizacion de variables numericas\n",
    "Se generan histogramas, densidades (kde), y diagramas de caja (boxplot) para cada columna numérica."
   ]
  },
  {
   "cell_type": "code",
   "execution_count": null,
   "metadata": {},
   "outputs": [],
   "source": [
    "num_cols=[col for col in num_cols if col not in [\"Id\", \"SalePrice\"]]\n",
    "df=df.apply(lambda x: x.astype(int) if x.dtypes==\"bool\" else x)"
   ]
  },
  {
   "cell_type": "code",
   "execution_count": null,
   "metadata": {},
   "outputs": [],
   "source": [
    "for col in num_cols:\n",
    "    plt.figure(figsize=(21,7))\n",
    "    \n",
    "    plt.subplot(1,3,1)\n",
    "    df[col].hist()\n",
    "    plt.title(f' {col}')\n",
    "    plt.xticks(rotation=90)\n",
    "    \n",
    "    plt.subplot(1,3,2)\n",
    "    sns.kdeplot(df[col], fill=True)\n",
    "    plt.title(f' {col}')\n",
    "    plt.xticks(rotation=90)\n",
    "    \n",
    "    plt.subplot(1,3,3)\n",
    "    sns.boxplot(y=col, data=df)\n",
    "    plt.title(f' {col}')\n",
    "    plt.xticks(rotation=90)\n",
    "    \n",
    "    plt.tight_layout()\n",
    "    plt.show()"
   ]
  },
  {
   "cell_type": "markdown",
   "metadata": {},
   "source": [
    "##### Visualización de variables categóricas\n",
    "Se utiliza un gráfico de barras (countplot) para cada variable categórica."
   ]
  },
  {
   "cell_type": "code",
   "execution_count": null,
   "metadata": {},
   "outputs": [],
   "source": [
    "n = len(cat_cols)\n",
    "rows = (n + 2) // 3  \n",
    "\n",
    "plt.figure(figsize=(21, rows * 7))  \n",
    "\n",
    "for i, col in enumerate(cat_cols):\n",
    "    plt.subplot(rows, 3, i + 1) \n",
    "    sns.countplot(x=df[col])\n",
    "    plt.title(f'{col}')\n",
    "    plt.xticks(rotation=90)\n",
    "\n",
    "plt.tight_layout() \n",
    "plt.show()  "
   ]
  },
  {
   "cell_type": "code",
   "execution_count": null,
   "metadata": {},
   "outputs": [],
   "source": [
    "for i in cat_cols:\n",
    "    result_df = pd.DataFrame({\n",
    "        \"Mean\": df.groupby(i)[\"SalePrice\"].mean(),\n",
    "        \"Count\": df.groupby(i)[\"SalePrice\"].count()  \n",
    "    })\n",
    "    \n",
    "    print(result_df)\n",
    "    print(\"\\n##############################\\n\")"
   ]
  },
  {
   "cell_type": "markdown",
   "metadata": {},
   "source": [
    "#### Analisis de Correlacion"
   ]
  },
  {
   "cell_type": "markdown",
   "metadata": {},
   "source": [
    "##### Deteccion de variables altamente correlacionadas\n",
    "* Se calcula la matriz de correlación.\n",
    "* Se identifican columnas con una correlación absoluta mayor a un umbral (corr_th)."
   ]
  },
  {
   "cell_type": "code",
   "execution_count": null,
   "metadata": {},
   "outputs": [],
   "source": [
    "def high_correlated_cols(dataframe, plot=False, corr_th=0.90):\n",
    "    corr = dataframe.corr(numeric_only=True)\n",
    "    cor_matrix = corr.abs()\n",
    "    upper_triangle_matrix = cor_matrix.where(np.triu(np.ones(cor_matrix.shape), k=1).astype(bool))\n",
    "    drop_list = [col for col in upper_triangle_matrix.columns if any(upper_triangle_matrix[col] > corr_th)]\n",
    "    if plot:\n",
    "        sns.set_theme(rc={\"figure.figsize\": (15, 15)})\n",
    "        sns.heatmap(corr, annot=True, fmt=\".2f\", cmap=\"RdBu\", annot_kws={\"size\": 7})\n",
    "        plt.show()\n",
    "    return drop_list"
   ]
  },
  {
   "cell_type": "code",
   "execution_count": null,
   "metadata": {},
   "outputs": [],
   "source": [
    "high_correlated_cols(df, plot=True)"
   ]
  },
  {
   "cell_type": "markdown",
   "metadata": {},
   "source": [
    "#### Análisis de valores atípicos\n",
    "* Se identifica valores fuera de los límites intercuartílicos (IQR).\n",
    "* Se reemplaza con los límites inferiores o superiores."
   ]
  },
  {
   "cell_type": "code",
   "execution_count": null,
   "metadata": {},
   "outputs": [],
   "source": [
    "def outlier_thresholds(dataframe, col_name, q1=0.05, q3=0.95):\n",
    "    quartile1 = dataframe[col_name].quantile(q1)\n",
    "    quartile3 = dataframe[col_name].quantile(q3)\n",
    "    interquantile_range = quartile3 - quartile1\n",
    "    up_limit = quartile3 + 1.5 * interquantile_range\n",
    "    low_limit = quartile1 - 1.5 * interquantile_range\n",
    "    return low_limit, up_limit\n",
    "\n",
    "def check_outlier(dataframe, col_name):\n",
    "    low_limit, up_limit = outlier_thresholds(dataframe, col_name)\n",
    "    if dataframe[(dataframe[col_name] > up_limit) | (dataframe[col_name] < low_limit)].shape[0] > 0:\n",
    "        return True\n",
    "    else:\n",
    "        return False"
   ]
  },
  {
   "cell_type": "code",
   "execution_count": null,
   "metadata": {},
   "outputs": [],
   "source": [
    "for i in num_cols:\n",
    "    print(i,check_outlier(df,i))"
   ]
  },
  {
   "cell_type": "code",
   "execution_count": null,
   "metadata": {},
   "outputs": [],
   "source": [
    "def replace_with_thresholds(dataframe, variable):\n",
    "    low_limit, up_limit = outlier_thresholds(dataframe, variable)\n",
    "    dataframe.loc[(dataframe[variable] < low_limit), variable] = low_limit\n",
    "    dataframe.loc[(dataframe[variable] > up_limit), variable] = up_limit"
   ]
  },
  {
   "cell_type": "code",
   "execution_count": null,
   "metadata": {},
   "outputs": [],
   "source": [
    "for i in num_cols:\n",
    "    replace_with_thresholds(df, i)"
   ]
  },
  {
   "cell_type": "code",
   "execution_count": null,
   "metadata": {},
   "outputs": [],
   "source": [
    "for i in num_cols:\n",
    "    print(i,check_outlier(df,i))"
   ]
  },
  {
   "cell_type": "markdown",
   "metadata": {},
   "source": [
    "#### Manejo de valores faltantes\n",
    "* Llena valores categóricos ausentes con \"No\".\n",
    "* Llena con la moda o la media dependiendo del tipo de dato."
   ]
  },
  {
   "cell_type": "code",
   "execution_count": null,
   "metadata": {},
   "outputs": [],
   "source": [
    "def missing_values_table(dataframe, na_name=False):\n",
    "    na_columns = [col for col in dataframe.columns if dataframe[col].isnull().sum() > 0]\n",
    "    n_miss = dataframe[na_columns].isnull().sum().sort_values(ascending=False)\n",
    "    ratio = (dataframe[na_columns].isnull().sum() / dataframe.shape[0] * 100).sort_values(ascending=False)\n",
    "    missing_df = pd.concat([n_miss, np.round(ratio, 2)], axis=1, keys=[\"n_miss\", \"ratio\"])\n",
    "    print(missing_df, end=\"\\n\")\n",
    "    return na_columns"
   ]
  },
  {
   "cell_type": "code",
   "execution_count": null,
   "metadata": {},
   "outputs": [],
   "source": [
    "missing_values_table(df)"
   ]
  },
  {
   "cell_type": "code",
   "execution_count": null,
   "metadata": {},
   "outputs": [],
   "source": [
    "no_cols = [\"Alley\",\"BsmtQual\",\"BsmtCond\",\"BsmtExposure\",\"BsmtFinType1\",\"BsmtFinType2\",\"FireplaceQu\",\n",
    "           \"GarageType\",\"GarageFinish\",\"GarageQual\",\"GarageCond\",\"PoolQC\",\"Fence\",\"MiscFeature\"]\n",
    "\n",
    "for col in no_cols:\n",
    "    df[col].fillna(\"No\",inplace=True)"
   ]
  },
  {
   "cell_type": "code",
   "execution_count": null,
   "metadata": {},
   "outputs": [],
   "source": [
    "for col in cat_cols:    \n",
    "    df[col].fillna(df[col].mode()[0], inplace=True)"
   ]
  },
  {
   "cell_type": "code",
   "execution_count": null,
   "metadata": {},
   "outputs": [],
   "source": [
    "missing_values_table(df)"
   ]
  },
  {
   "cell_type": "code",
   "execution_count": null,
   "metadata": {},
   "outputs": [],
   "source": [
    "variables_with_na = missing_values_table(df)\n",
    "variables_with_na = [col for col in variables_with_na if \"SalePrice\" not in col]\n",
    "variables_with_na"
   ]
  },
  {
   "cell_type": "code",
   "execution_count": null,
   "metadata": {},
   "outputs": [],
   "source": [
    "for col in variables_with_na:    \n",
    "    df[col].fillna(df[col].mean(), inplace=True)\n",
    "    \n",
    "missing_values_table(df)"
   ]
  },
  {
   "cell_type": "code",
   "execution_count": null,
   "metadata": {},
   "outputs": [],
   "source": [
    "df.head()"
   ]
  },
  {
   "cell_type": "code",
   "execution_count": null,
   "metadata": {},
   "outputs": [],
   "source": [
    "df[\"NEW_HouseAge\"] = df[\"YrSold\"] - df[\"YearBuilt\"]\n",
    "df[\"NEW_TotalSF\"] = df[\"TotalBsmtSF\"] + df[\"1stFlrSF\"] + df[\"2ndFlrSF\"]"
   ]
  },
  {
   "cell_type": "markdown",
   "metadata": {},
   "source": [
    "### Exploración de Datos:\n",
    "* **Visualizaciones univariadas y multivariadas**: Crea histogramas, gráficos de barras, diagramas de dispersión y mapas de calor para entender la distribución y las relaciones entre las variables.\n",
    "* **Estadísticas descriptivas**: Calcula medidas de tendencia central (media, mediana, moda) y de dispersión (rango, desviación estándar) para cada característica del dataset.\n",
    "\n",
    "***Obesrvacion**: Las visualizaciones univariadas y la matriz de correlacion ya se realizaron en el apartado **Analisis de Variables**"
   ]
  },
  {
   "cell_type": "markdown",
   "metadata": {},
   "source": [
    "#### Estadisticas descriptivas\n",
    "\n",
    "* Área: Variables como GrLivArea, TotalBsmtSF y 1stFlrSF indican que existe una gran variabilidad en el tamaño de las propiedades. Esto sugiere que el mercado inmobiliario en cuestión incluye desde casas pequeñas hasta mansiones.\n",
    "* Año de Construcción: Las variables YearBuilt y YearRemodAdd muestran que las casas fueron construidas en diferentes épocas, lo que implica que hay una mezcla de propiedades antiguas y modernas.\n",
    "* Características Adicionales: Variables como Fireplaces, GarageCars y PoolArea indican que las propiedades tienen diferentes características adicionales que pueden influir en su valor.\n",
    "* Precio de Venta: La variable SalePrice muestra una amplia gama de precios, lo que sugiere una diversidad en el mercado y la presencia de propiedades de diferentes rangos de precios."
   ]
  },
  {
   "cell_type": "code",
   "execution_count": null,
   "metadata": {},
   "outputs": [],
   "source": [
    "# Estadísticas descriptivas\n",
    "descriptive_stats = df.describe()\n",
    "print(descriptive_stats)\n",
    "\n",
    "# También podemos calcular medidas adicionales como la moda\n",
    "mode_stats = df.mode().iloc[0]  # Para cada columna\n",
    "print(\"Moda:\\n\", mode_stats)\n",
    "\n",
    "# Mediana\n",
    "# Filtrar solo las columnas numéricas\n",
    "numeric_cols = df.select_dtypes(include=['number'])\n",
    "\n",
    "# Calcular la mediana solo para las columnas numéricas\n",
    "median_stats = numeric_cols.median()\n",
    "print(\"Mediana:\\n\", median_stats)"
   ]
  },
  {
   "cell_type": "markdown",
   "metadata": {},
   "source": [
    "#### Diagrama de dispersión (Scatter Plot)\n",
    "Relacion entre el área total construida (GrLivArea) y el precio de venta\n",
    "\n",
    "**Observaciones**\n",
    "* El tamaño importa: El área habitable es un factor importante que influye en el precio de venta de una propiedad. Cuanto más grande sea la casa, mayor será su valor en el mercado.\n",
    "* Otros factores: Aunque el tamaño es un factor importante, no es el único. Otros factores como la ubicación, la calidad de los materiales, la antigüedad, el número de habitaciones y baños, etc., también influyen en el precio final.\n",
    "* Variabilidad: Los precios de las propiedades no están determinados únicamente por su tamaño, sino que hay una gran variabilidad debido a la combinación de todos estos factores."
   ]
  },
  {
   "cell_type": "code",
   "execution_count": null,
   "metadata": {},
   "outputs": [],
   "source": [
    "# Diagrama de dispersión entre GrLivArea y SalePrice\n",
    "plt.figure(figsize=(10, 6))\n",
    "sns.scatterplot(data=df, x='GrLivArea', y='SalePrice', alpha=0.6)\n",
    "plt.title('Relación entre GrLivArea y SalePrice')\n",
    "plt.xlabel('GrLivArea')\n",
    "plt.ylabel('SalePrice')\n",
    "plt.show()\n"
   ]
  },
  {
   "cell_type": "markdown",
   "metadata": {},
   "source": [
    "#### Distribución de las Características en Diferentes Vecindarios (Neighborhood vs. características)\n",
    "Analiza cómo varía el precio de venta según el vecindario. Esto te ayudará a identificar patrones espaciales o tendencias locales en las viviendas.\n",
    "\n",
    "**Observaciones:**\n",
    "* Variabilidad de precios entre vecindarios: El gráfico muestra claramente que hay una gran variabilidad en los precios de venta entre los diferentes vecindarios. Algunos vecindarios tienen precios promedio mucho más altos que otros.\n",
    "* Vecindarios con precios altos: Vecindarios como \"NridgHt\", \"NoRidge\" y \"StoneBr\" tienden a tener precios de venta más altos y menos variabilidad, lo que sugiere que son vecindarios más exclusivos o con propiedades de mayor calidad.\n",
    "* Vecindarios con precios bajos: Por otro lado, vecindarios como \"IDOTRR\", \"MeadowV\" y \"Blueste\" tienden a tener precios de venta más bajos y mayor variabilidad. Esto podría indicar que son vecindarios más antiguos, con propiedades más pequeñas o con menos comodidades.\n",
    "* Outliers: La presencia de outliers sugiere que hay algunas casas en ciertos vecindarios que se venden a precios significativamente diferentes del resto. Estos outliers podrían ser propiedades únicas, con características especiales o que se vendieron en circunstancias particulares."
   ]
  },
  {
   "cell_type": "code",
   "execution_count": null,
   "metadata": {},
   "outputs": [],
   "source": [
    "plt.figure(figsize=(12, 6))\n",
    "sns.boxplot(x='Neighborhood', y='SalePrice', data=df)\n",
    "plt.xticks(rotation=90)\n",
    "plt.title('Distribución de SalePrice por Vecindario')\n",
    "plt.show()"
   ]
  },
  {
   "cell_type": "markdown",
   "metadata": {},
   "source": [
    "#### Gráfico de Barras Apiladas por Categorías (Comparar la calidad y el tipo de acabado)\n",
    "Examina cómo las calificaciones de calidad externa y del sótano afectan el precio de la vivienda.\n",
    "\n",
    "**Obeservaciones**\n",
    "* La calidad exterior y del sótano son factores clave: Al momento de evaluar el valor de una propiedad, los compradores suelen considerar la calidad de los acabados exteriores y del sótano como indicadores importantes.\n",
    "* Invertir en mejoras: Mejorar la calidad exterior y del sótano puede aumentar significativamente el valor de una propiedad y hacerla más atractiva para los compradores.\n",
    "* Segmentación del mercado: Este análisis puede ser útil para segmentar el mercado inmobiliario y identificar nichos específicos de compradores con preferencias particulares en cuanto a la calidad de la construcción."
   ]
  },
  {
   "cell_type": "code",
   "execution_count": null,
   "metadata": {},
   "outputs": [],
   "source": [
    "# Crear una nueva columna combinando ExterQual y BsmtQual\n",
    "df['Exterior+BsmtQual'] = df['ExterQual'] + \" / \" + df['BsmtQual']\n",
    "\n",
    "plt.figure(figsize=(14, 7))\n",
    "sns.barplot(x='Exterior+BsmtQual', y='SalePrice', data=df, estimator='mean')\n",
    "plt.xticks(rotation=45)\n",
    "plt.title('Promedio de SalePrice por Combinación de Calidad Exterior y del Sótano')\n",
    "plt.show()\n"
   ]
  },
  {
   "cell_type": "markdown",
   "metadata": {},
   "source": [
    "#### Codificacion de datos"
   ]
  },
  {
   "cell_type": "markdown",
   "metadata": {},
   "source": [
    "##### Label Encoding\n",
    "Para variables binarias "
   ]
  },
  {
   "cell_type": "code",
   "execution_count": null,
   "metadata": {},
   "outputs": [],
   "source": [
    "def label_encoder (dataframe, binary_col):\n",
    "    dataframe[binary_col]=LabelEncoder().fit_transform(dataframe[binary_col])\n",
    "    return dataframe\n",
    "\n",
    "binary_cols=[col for col in df.columns if df[col].dtypes == \"O\" \n",
    "             and df[col].nunique()==2]"
   ]
  },
  {
   "cell_type": "code",
   "execution_count": null,
   "metadata": {},
   "outputs": [],
   "source": [
    "for col in binary_cols:\n",
    "    df=label_encoder (df, col)\n",
    "    \n",
    "df.head()"
   ]
  },
  {
   "cell_type": "markdown",
   "metadata": {},
   "source": [
    "##### One-Hot Encoding\n",
    "Para las demas variables categoricas"
   ]
  },
  {
   "cell_type": "code",
   "execution_count": null,
   "metadata": {},
   "outputs": [],
   "source": [
    "def one_hot_encoder (dataframe, categorical_cols, drop_first=False):\n",
    "    dataframe=pd.get_dummies(dataframe, columns=categorical_cols, drop_first=drop_first)\n",
    "    return dataframe"
   ]
  },
  {
   "cell_type": "code",
   "execution_count": null,
   "metadata": {},
   "outputs": [],
   "source": [
    "categorical_cols=[col for col in cat_cols if col not in binary_cols]\n",
    "df=one_hot_encoder(df, categorical_cols, True)\n",
    "df=df.apply(lambda x: x.astype(int) if x.dtypes==\"bool\" else x)\n",
    "df.head()"
   ]
  },
  {
   "cell_type": "markdown",
   "metadata": {},
   "source": [
    "#### Escalado\n",
    "Se aplica `RobustScaler` para las variables numéricas."
   ]
  },
  {
   "cell_type": "code",
   "execution_count": null,
   "metadata": {},
   "outputs": [],
   "source": [
    "x=[col for col in num_cols if col != \"Id\"]\n",
    "df[x]=RobustScaler().fit_transform(df[x])\n",
    "df.head()"
   ]
  },
  {
   "cell_type": "code",
   "execution_count": null,
   "metadata": {},
   "outputs": [],
   "source": [
    "train_df=df[df[\"SalePrice\"].notnull()]\n",
    "test_df=df[df[\"SalePrice\"].isnull()]\n",
    "print(\"Mean: \" + str(df[\"SalePrice\"].mean()))\n",
    "print(\"Std: \" + str(df[\"SalePrice\"].std()))"
   ]
  },
  {
   "cell_type": "markdown",
   "metadata": {},
   "source": [
    "### Implementación de Modelos:\n",
    "* **Modelos de Regresión**: Implementa modelos de Linear Regression y LightGBM (LGBM).\n",
    "* **Evaluación de Modelos**: Evalúa los modelos utilizando métricas como MSE, RMSE, y R^2.\n",
    "* **Comparación de Rendimiento**: Compara los resultados de ambos modelos y discute cuál es el más adecuado para este dataset."
   ]
  },
  {
   "cell_type": "code",
   "execution_count": null,
   "metadata": {},
   "outputs": [],
   "source": [
    "y=np.log1p(train_df[\"SalePrice\"])\n",
    "X=train_df.drop([\"Id\", \"SalePrice\"], axis=1)\n",
    "X_train, X_test, y_train, y_test = train_test_split(X,y,test_size=0.3, random_state=42)"
   ]
  },
  {
   "cell_type": "code",
   "execution_count": null,
   "metadata": {},
   "outputs": [],
   "source": [
    "# Regresion Lineal\n",
    "\n",
    "reg_model = LinearRegression().fit(X_train,y_train) #built model\n",
    "reg_pred = reg_model.predict(X_test) #make prediction\n",
    "\n",
    "print('MAE:', mean_absolute_error(y_test, reg_pred))\n",
    "print('MSE:', mean_squared_error(y_test, reg_pred))\n",
    "print('RMSE:', np.sqrt(mean_squared_error(y_test, reg_pred)))"
   ]
  },
  {
   "cell_type": "code",
   "execution_count": null,
   "metadata": {},
   "outputs": [],
   "source": [
    "liner_r2_score=r2_score(y_test, reg_pred)\n",
    "liner_r2_score\n"
   ]
  },
  {
   "cell_type": "markdown",
   "metadata": {},
   "source": [
    "Optimizacion de Hiperparametros"
   ]
  },
  {
   "cell_type": "code",
   "execution_count": null,
   "metadata": {},
   "outputs": [],
   "source": [
    "# LightGBM Regressor\n",
    "lgbm_model = LGBMRegressor(objective=\"regression\", metric=\"rmse\", random_state=42)\n",
    "lgbm_model.fit(X_train, y_train)\n",
    "lgbm_preds = lgbm_model.predict(X_test)\n",
    "\n",
    "print(\"\\nLightGBM Results:\")\n",
    "print(\"MAE:\", mean_absolute_error(y_test, lgbm_preds))\n",
    "print(\"MSE:\", mean_squared_error(y_test, lgbm_preds))\n",
    "print(\"RMSE:\", np.sqrt(mean_squared_error(y_test, lgbm_preds)))\n",
    "lgbm_r2_score = r2_score(y_test, lgbm_preds)\n",
    "print(\"R2 Score (LightGBM):\", lgbm_r2_score)"
   ]
  },
  {
   "cell_type": "code",
   "execution_count": null,
   "metadata": {},
   "outputs": [],
   "source": [
    "# Hyperparameter Optimization with GridSearchCV\n",
    "lgbm_params = {\n",
    "    \"n_estimators\": [100, 200],\n",
    "    \"learning_rate\": [0.05, 0.1],\n",
    "    \"max_depth\": [3, 5, 7],\n",
    "}\n",
    "\n",
    "lgbm_grid = GridSearchCV(estimator=LGBMRegressor(objective=\"regression\", random_state=42),\n",
    "                         param_grid=lgbm_params,\n",
    "                         scoring=\"neg_mean_squared_error\",\n",
    "                         cv=5,\n",
    "                         n_jobs=-1)\n",
    "\n",
    "lgbm_grid.fit(X_train, y_train)\n",
    "\n",
    "print(\"\\nBest Parameters for LightGBM:\")\n",
    "print(lgbm_grid.best_params_)"
   ]
  },
  {
   "cell_type": "code",
   "execution_count": null,
   "metadata": {},
   "outputs": [],
   "source": [
    "# Train final model with best parameters\n",
    "final_model = LGBMRegressor(**lgbm_grid.best_params_, random_state=42)\n",
    "final_model.fit(X_train, y_train)"
   ]
  },
  {
   "cell_type": "code",
   "execution_count": null,
   "metadata": {},
   "outputs": [],
   "source": [
    "# Evaluate final model\n",
    "final_preds = final_model.predict(X_test)\n",
    "print(\"\\nFinal Model Results:\")\n",
    "print(\"MAE:\", mean_absolute_error(y_test, final_preds))\n",
    "print(\"MSE:\", mean_squared_error(y_test, final_preds))\n",
    "print(\"RMSE:\", np.sqrt(mean_squared_error(y_test, final_preds)))\n",
    "print(\"R2 Score (Final Model):\", r2_score(y_test, final_preds))"
   ]
  },
  {
   "cell_type": "code",
   "execution_count": null,
   "metadata": {},
   "outputs": [],
   "source": [
    "# Feature Importance\n",
    "def plot_importance(model, features, dataframe, save=False):\n",
    "    num = len(dataframe.columns)\n",
    "    feature_imp = pd.DataFrame({\"Value\": model.feature_importances_, \"Feature\": features.columns})\n",
    "    plt.figure(figsize=(10, 10))\n",
    "    sns.set_theme(font_scale=1)\n",
    "    sns.barplot(x=\"Value\", y=\"Feature\", data=feature_imp.sort_values(by=\"Value\", ascending=False)[0:40])\n",
    "    plt.title(\"Features\")\n",
    "    plt.tight_layout()\n",
    "    plt.show()\n",
    "    if save:\n",
    "        plt.savefig(\"importances.png\")\n",
    "\n",
    "plot_importance(final_model, X, train_df)"
   ]
  },
  {
   "cell_type": "markdown",
   "metadata": {},
   "source": [
    "## Entrega\n",
    "Los estudiantes deben entregar un archivo .ipynb comentado que incluya:\n",
    "\n",
    "* Proceso completo de limpieza y preprocesamiento de datos.\n",
    "* Visualizaciones y estadísticas descriptivas.\n",
    "* Implementación y evaluación de los modelos de regresión.\n",
    "* Análisis comparativo del rendimiento de los modelos.\n",
    "* Además, el archivo debe subirse a GitHub con un tag de liberación (release tag) que permita identificar la entrega final.\n",
    "\n",
    "## Consideraciones Éticas y Tecnológicas\n",
    "\n",
    "#### Consideraciones Éticas:\n",
    "* **Transparencia y Reproducibilidad**: Asegúrate de que todos los pasos del análisis sean claros y reproducibles. Otros investigadores deben poder seguir tus pasos y llegar a los mismos resultados.\n",
    "* **Imparcialidad y Sesgo**: Revisa si existen sesgos en los datos que puedan afectar la imparcialidad del modelo. Es importante que los modelos no discriminen injustamente entre diferentes grupos de datos.\n",
    "#### Consideraciones Tecnológicas:\n",
    "* **Herramientas Utilizadas**: Utiliza herramientas estándar como Python, Jupyter Notebook, Pandas, Scikit-learn, Matplotlib y Seaborn.\n",
    "* **Escalabilidad**: Considera cómo las técnicas aplicadas podrían escalarse para manejar conjuntos de datos más grandes y complejos.\n",
    "* **Optimización de Modelos**: Aunque este examen no se enfoca en la optimización de hiperparámetros, se debe tener en cuenta para futuras implementaciones y mejorar el rendimiento de los modelos."
   ]
  }
 ],
 "metadata": {
  "kernelspec": {
   "display_name": "Python 3",
   "language": "python",
   "name": "python3"
  },
  "language_info": {
   "codemirror_mode": {
    "name": "ipython",
    "version": 3
   },
   "file_extension": ".py",
   "mimetype": "text/x-python",
   "name": "python",
   "nbconvert_exporter": "python",
   "pygments_lexer": "ipython3",
   "version": "3.13.0"
  }
 },
 "nbformat": 4,
 "nbformat_minor": 2
}
