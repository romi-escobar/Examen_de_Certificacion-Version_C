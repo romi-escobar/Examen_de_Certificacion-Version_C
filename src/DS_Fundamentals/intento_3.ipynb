{
 "cells": [
  {
   "cell_type": "markdown",
   "metadata": {},
   "source": [
    "# **Fundamentos de Data Science**\n",
    "Analisis de la Rotación de Clientes en Telecomunicaciones\n",
    "\n",
    "**Requisitos**<br>\n",
    "Se debe limpiar y explorar un dataset para los ejecutivos de una empresa de telecomunicaciones que describe tendencias en la rotación de sus clientes.\n",
    "\n",
    "**Dataset**<br>\n",
    "Telco Customer Churn - WA_Fn-UseC_-Telco-Customer-Churn.csv <br>\n",
    "https://www.kaggle.com/datasets/blastchar/telco-customer-churn?resource=download\n",
    "\n",
    "**Contexto:**<br> \n",
    "\"Predecir el comportamiento para retener a los clientes. Puede analizar todos los datos relevantes de los clientes y desarrollar programas de retención de clientes específicos\". [Conjuntos de datos de muestra de IBM]\n",
    "\n",
    "**Contenido**<br>\n",
    "Cada fila representa un cliente, cada columna contiene los atributos del cliente descritos en la columna Metadatos.\n",
    "\n",
    "El conjunto de datos incluye información sobre:\n",
    "* Clientes que se fueron durante el último mes: la columna se llama Churn\n",
    "* Servicios a los que se ha suscrito cada cliente: teléfono, líneas múltiples, Internet, seguridad en línea, copia de seguridad en línea, protección de dispositivos, soporte técnico y transmisión de TV y películas.\n",
    "* Información de la cuenta del cliente: cuánto tiempo ha sido cliente, contrato, método de pago, facturación electrónica, cargos mensuales y cargos totales\n",
    "* Información demográfica sobre los clientes: género, rango de edad y si tienen parejas y dependientes."
   ]
  },
  {
   "cell_type": "markdown",
   "metadata": {},
   "source": [
    "## **Carga y Visualizacion de datos**"
   ]
  },
  {
   "cell_type": "markdown",
   "metadata": {},
   "source": [
    "* Se importa las librerias necesarias para el analisis del dataset\n",
    "* Se carga del dataset (archivo .csv) \n",
    "* Se visualiza la cantidad d registros y columnas\n",
    "* Se muestran los primeros 5 registros "
   ]
  },
  {
   "cell_type": "code",
   "execution_count": 1,
   "metadata": {},
   "outputs": [],
   "source": [
    "# Importar librerias\n",
    "import numpy as np\n",
    "import pandas as pd\n",
    "import matplotlib.pyplot as plt\n",
    "import seaborn as sns\n",
    "import json\n",
    "import re\n",
    "import time"
   ]
  },
  {
   "cell_type": "code",
   "execution_count": null,
   "metadata": {},
   "outputs": [],
   "source": [
    "# Cargar el dataset\n",
    "path = r'C:\\Users\\romi_\\repositorios\\Examen_de_Certificacion-Version_C\\data\\WA_Fn-UseC_-Telco-Customer-Churn.csv'\n",
    "df = pd.read_csv(path)\n",
    "# Imprime la forma del dataset (registros, columnas)\n",
    "print(df.shape)\n",
    "# Muestra los 5 primeros registros del dataset\n",
    "df.head()"
   ]
  },
  {
   "cell_type": "code",
   "execution_count": null,
   "metadata": {},
   "outputs": [],
   "source": [
    "# Proporciona un resumen del dataframe\n",
    "df.info()"
   ]
  },
  {
   "cell_type": "markdown",
   "metadata": {},
   "source": [
    "## **Limpieza de datos con Python**"
   ]
  },
  {
   "cell_type": "markdown",
   "metadata": {},
   "source": [
    "##### **Detección y eliminación de valores duplicados** "
   ]
  },
  {
   "cell_type": "markdown",
   "metadata": {},
   "source": [
    "* Indicación general: Cada registro en el dataset debe ser único.\n",
    "* El dataset no posee registros duplicados, ninguna accion es necesaria"
   ]
  },
  {
   "cell_type": "code",
   "execution_count": null,
   "metadata": {},
   "outputs": [],
   "source": [
    "# Identificar duplicados\n",
    "duplicados = df.duplicated()\n",
    "# Contar el número de duplicados\n",
    "num_duplicados = duplicados.sum()\n",
    "print(f\"Número de registros duplicados: {num_duplicados}\")\n",
    "df.head()"
   ]
  },
  {
   "cell_type": "markdown",
   "metadata": {},
   "source": [
    "En caso de necesitar **eliminar duplicados**, el siguiente codigo realizaria la acción"
   ]
  },
  {
   "cell_type": "code",
   "execution_count": null,
   "metadata": {},
   "outputs": [],
   "source": [
    "# Eliminar registros duplicados\n",
    "df.drop_duplicates(inplace=True)\n",
    "# Verificar el número de registros después de eliminar duplicados\n",
    "print(f\"Número de registros después de eliminar duplicados: {df.shape[0]}\")\n",
    "\n",
    "# Identificar duplicados\n",
    "duplicados = df.duplicated()\n",
    "# Contar el número de duplicados\n",
    "num_duplicados = duplicados.sum()\n",
    "print(f\"Número de registros duplicados: {num_duplicados}\")"
   ]
  },
  {
   "cell_type": "markdown",
   "metadata": {},
   "source": [
    "##### **Verificación y ajuste de tipos de datos**"
   ]
  },
  {
   "cell_type": "markdown",
   "metadata": {},
   "source": [
    "* Las columnas deben coincidir con los tipos de datos indicados en el diccionario de datos."
   ]
  },
  {
   "cell_type": "code",
   "execution_count": null,
   "metadata": {},
   "outputs": [],
   "source": [
    "df.dtypes"
   ]
  },
  {
   "cell_type": "code",
   "execution_count": null,
   "metadata": {},
   "outputs": [],
   "source": [
    "# Iterar a través de cada columna del DataFrame\n",
    "for columna in df.columns:\n",
    "    # Obtener los valores únicos de la columna\n",
    "    valores_unicos = df[columna].unique()\n",
    "    print(f\"Valores únicos en la columna '{columna}': {valores_unicos}\")"
   ]
  },
  {
   "cell_type": "code",
   "execution_count": 8,
   "metadata": {},
   "outputs": [],
   "source": [
    "# Definir el diccionario de tipos de datos\n",
    "diccionario = {\n",
    "    'customerID': 'string',\n",
    "    'gender': 'string',\n",
    "    'SeniorCitizen': 'int',\n",
    "    'Partner': 'string',\n",
    "    'Dependents': 'string',\n",
    "    'tenure': 'int',\n",
    "    'PhoneService': 'string',\n",
    "    'MultipleLines': 'string',\n",
    "    'InternetService': 'string',\n",
    "    'OnlineSecurity': 'string',\n",
    "    'OnlineBackup': 'string',\n",
    "    'DeviceProtection': 'string',\n",
    "    'TechSupport': 'string',\n",
    "    'StreamingTV': 'string',\n",
    "    'StreamingMovies': 'string',\n",
    "    'Contract': 'string',\n",
    "    'PaperlessBilling': 'string',\n",
    "    'PaymentMethod': 'string',\n",
    "    'MonthlyCharges': 'float',\n",
    "    'TotalCharges': 'float',\n",
    "    'Churn': 'string'\n",
    "}"
   ]
  },
  {
   "cell_type": "code",
   "execution_count": null,
   "metadata": {},
   "outputs": [],
   "source": [
    "# Función para mapear tipos personalizados a tipos de pandas\n",
    "def map_tipo(tipo_personalizado):\n",
    "    mapping = {\n",
    "        'string': 'string',\n",
    "        'int': 'int64',\n",
    "        'float': 'float64'\n",
    "    }\n",
    "    return mapping.get(tipo_personalizado, 'object')\n",
    "\n",
    "# Crear diccionario mapeado para pandas\n",
    "diccionario_mapeado = {col: map_tipo(tipo) for col, tipo in diccionario.items()}\n",
    "print(\"Diccionario Mapeado para pandas:\")\n",
    "diccionario_mapeado"
   ]
  },
  {
   "cell_type": "code",
   "execution_count": 10,
   "metadata": {},
   "outputs": [],
   "source": [
    "# Función para validar tipos de datos en el DataFrame\n",
    "def validar_tipos(df, diccionario):\n",
    "    mismatches = []\n",
    "    for columna, tipo_esperado in diccionario.items():\n",
    "        if columna in df.columns:\n",
    "            tipo_actual = str(df[columna].dtype)\n",
    "            if tipo_actual != tipo_esperado:\n",
    "                mismatches.append((columna, tipo_actual, tipo_esperado))\n",
    "        else:\n",
    "            mismatches.append((columna, 'No existe en el DataFrame', tipo_esperado))\n",
    "    return mismatches"
   ]
  },
  {
   "cell_type": "code",
   "execution_count": null,
   "metadata": {},
   "outputs": [],
   "source": [
    "# Ejecutar la validación\n",
    "mismatches = validar_tipos(df, diccionario_mapeado)\n",
    "\n",
    "# Mostrar resultados de la validación\n",
    "if not mismatches:\n",
    "    print(\"Todos los tipos de datos son correctos.\")\n",
    "else:\n",
    "    print(\"Discrepancias encontradas en los tipos de datos:\")\n",
    "    for columna, actual, esperado in mismatches:\n",
    "        print(f\"- Columna '{columna}': Tipo actual -> {actual}, Tipo esperado -> {esperado}\")\n"
   ]
  },
  {
   "cell_type": "markdown",
   "metadata": {},
   "source": [
    "La existencia de valores -1 en la columna \"TotalCharges\" indica que existen valores nulos"
   ]
  },
  {
   "cell_type": "code",
   "execution_count": 12,
   "metadata": {},
   "outputs": [],
   "source": [
    "def corregir_tipos(df, diccionario):\n",
    "    for columna, tipo in diccionario.items():\n",
    "        if columna in df.columns:\n",
    "            try:\n",
    "                # Reemplazar cadenas vacías y espacios en blanco por -1\n",
    "                if tipo == 'float64':\n",
    "                    df[columna] = df[columna].replace(r'^\\s*$', -1, regex=True)\n",
    "                    \n",
    "                # Convertir la columna a tipo específico\n",
    "                df[columna] = df[columna].astype(tipo)\n",
    "                \n",
    "                # Manejar -1 de manera adecuada después de la conversión\n",
    "                if (df[columna] == -1).any():\n",
    "                    print(f\"Advertencia: Existen valores -1 en la columna '{columna}' después de la conversión.\")\n",
    "            except Exception as e:\n",
    "                print(f\"Error al convertir la columna '{columna}' a '{tipo}': {e}\")\n",
    "    return df\n"
   ]
  },
  {
   "cell_type": "code",
   "execution_count": null,
   "metadata": {},
   "outputs": [],
   "source": [
    "# Corregir los tipos de datos\n",
    "df = corregir_tipos(df, diccionario_mapeado)"
   ]
  },
  {
   "cell_type": "code",
   "execution_count": null,
   "metadata": {},
   "outputs": [],
   "source": [
    "# Volver a validar\n",
    "mismatches_post = validar_tipos(df, diccionario_mapeado)\n",
    "\n",
    "# Mostrar resultados después de la corrección\n",
    "if not mismatches_post:\n",
    "    print(\"Todos los tipos de datos han sido corregidos correctamente.\")\n",
    "else:\n",
    "    print(\"Aún existen discrepancias después de la corrección:\")\n",
    "    for columna, actual, esperado in mismatches_post:\n",
    "        print(f\"- Columna '{columna}': Tipo actual -> {actual}, Tipo esperado -> {esperado}\")\n"
   ]
  },
  {
   "cell_type": "markdown",
   "metadata": {},
   "source": [
    "##### **Consistencia en valores categóricos** "
   ]
  },
  {
   "cell_type": "markdown",
   "metadata": {},
   "source": [
    "Identificar y corregir cualquier inconsistencia en los valores categóricos (por ejemplo, ‘yes’, ‘Yes’, ‘YES’)."
   ]
  },
  {
   "cell_type": "code",
   "execution_count": null,
   "metadata": {},
   "outputs": [],
   "source": [
    "# Iterar a través de cada columna del DataFrame\n",
    "for columna in df.columns:\n",
    "    # Obtener los valores únicos de la columna\n",
    "    valores_unicos = df[columna].unique()\n",
    "    print(f\"Valores únicos en la columna '{columna}': {valores_unicos}\")"
   ]
  },
  {
   "cell_type": "code",
   "execution_count": 16,
   "metadata": {},
   "outputs": [],
   "source": [
    "# Definir las columnas categóricas de tu nuevo dataset\n",
    "categorical_cols = [\n",
    "    'gender', \n",
    "    'SeniorCitizen',  # Esta columna no es categórica, la puedes omitir en la limpieza\n",
    "    'Partner', \n",
    "    'Dependents', \n",
    "    'PhoneService', \n",
    "    'MultipleLines', \n",
    "    'InternetService', \n",
    "    'OnlineSecurity', \n",
    "    'OnlineBackup', \n",
    "    'DeviceProtection', \n",
    "    'TechSupport', \n",
    "    'StreamingTV', \n",
    "    'StreamingMovies', \n",
    "    'Contract', \n",
    "    'PaperlessBilling', \n",
    "    'PaymentMethod', \n",
    "    'Churn'\n",
    "]"
   ]
  },
  {
   "cell_type": "code",
   "execution_count": null,
   "metadata": {},
   "outputs": [],
   "source": [
    "# Diccionario para almacenar los valores únicos antes de la limpieza\n",
    "valores_unicos = {}\n",
    "for col in categorical_cols:\n",
    "    unique_vals = df[col].dropna().unique().tolist()  # Eliminar NaN y convertir a lista\n",
    "    valores_unicos[col] = unique_vals\n",
    "    print(f\"\\nValores únicos en la columna '{col}':\")\n",
    "    print(unique_vals)\n",
    "\n",
    "# Ruta donde se guardará el archivo JSON con los valores únicos iniciales\n",
    "ruta_json_inicial = 'C:/Users/romi_/repositorios/Examen_de_Certificacion-Version_C/data/valores_unicos_iniciales.json'\n",
    "# Guardar el diccionario en un archivo JSON\n",
    "with open(ruta_json_inicial, 'w', encoding='utf-8') as f:\n",
    "    json.dump(valores_unicos, f, ensure_ascii=False, indent=4)\n",
    "    print(f\"\\nValores únicos guardados en '{ruta_json_inicial}'\")\n"
   ]
  },
  {
   "cell_type": "code",
   "execution_count": 18,
   "metadata": {},
   "outputs": [],
   "source": [
    "def limpiar_cadena(cadena):\n",
    "    \"\"\"\n",
    "    Limpia una cadena de texto realizando las siguientes operaciones:\n",
    "    1. Convierte todo el texto a minúsculas.\n",
    "    2. Elimina caracteres no imprimibles antes de la primera letra y después de la última letra,\n",
    "       pero mantiene los caracteres internos.\n",
    "    \n",
    "    Parámetros:\n",
    "    - cadena (str): La cadena de texto a limpiar.\n",
    "    \n",
    "    Retorna:\n",
    "    - str: La cadena limpia.\n",
    "    \"\"\"\n",
    "    if isinstance(cadena, str):\n",
    "        # 1. Convertir todo a minúsculas\n",
    "        cadena = cadena.lower()\n",
    "        \n",
    "        # 2. Eliminar caracteres no imprimibles antes de la primera letra y después de la última letra\n",
    "        primer_letra = re.search(r'[a-z]', cadena)\n",
    "        ultima_letra = re.search(r'[a-z](?!.*[a-z])', cadena)\n",
    "        \n",
    "        if primer_letra and ultima_letra:\n",
    "            inicio = primer_letra.start()\n",
    "            fin = ultima_letra.end()\n",
    "            cadena = cadena[inicio:fin]\n",
    "        else:\n",
    "            cadena = cadena.strip()\n",
    "        \n",
    "        return cadena\n",
    "    return cadena\n"
   ]
  },
  {
   "cell_type": "code",
   "execution_count": 19,
   "metadata": {},
   "outputs": [],
   "source": [
    "# Aplicar la limpieza a las columnas categóricas, excluyendo 'SeniorCitizen'\n",
    "for col in categorical_cols:\n",
    "    if col != 'SeniorCitizen':\n",
    "        df[col] = df[col].apply(limpiar_cadena)\n"
   ]
  },
  {
   "cell_type": "code",
   "execution_count": null,
   "metadata": {},
   "outputs": [],
   "source": [
    "# Verificar los cambios\n",
    "for col in categorical_cols:\n",
    "    print(f\"\\nValores únicos después de limpieza en '{col}':\")\n",
    "    print(df[col].unique())\n"
   ]
  },
  {
   "cell_type": "code",
   "execution_count": null,
   "metadata": {},
   "outputs": [],
   "source": [
    "# Guardar los valores únicos en un archivo JSON para referencia\n",
    "valores_unicos_finales = {}\n",
    "for col in categorical_cols:\n",
    "    unique_vals = df[col].dropna().unique().tolist()\n",
    "    valores_unicos_finales[col] = unique_vals\n",
    "\n",
    "# Guardar en 'valores_unicos_finales.json'\n",
    "ruta_json_final = 'C:/Users/romi_/repositorios/Examen_de_Certificacion-Version_C/data/valores_unicos_finales.json'\n",
    "with open(ruta_json_final, 'w', encoding='utf-8') as f:\n",
    "    json.dump(valores_unicos_finales, f, ensure_ascii=False, indent=4)\n",
    "    print(f\"Valores únicos guardados en '{ruta_json_final}'.\")\n"
   ]
  },
  {
   "cell_type": "markdown",
   "metadata": {},
   "source": [
    "##### **Manejo de valores faltantes**"
   ]
  },
  {
   "cell_type": "markdown",
   "metadata": {},
   "source": [
    "* Identifica y maneja cualquier valor faltante en el dataset. \n",
    "* Rellena los valores faltantes con un marcador adecuado para el tipo de dato.\n",
    "* En la columna \"TotalCharges\", si se encuantran valores iguales a -1 es indicador de un valor de tipo NaN"
   ]
  },
  {
   "cell_type": "code",
   "execution_count": null,
   "metadata": {},
   "outputs": [],
   "source": [
    "# Identificar valores faltantes\n",
    "qsna = df.shape[0] - df.isnull().sum(axis=0)  # Cantidad de datos sin NAs\n",
    "qna = df.isnull().sum(axis=0)  # Cantidad de NAs por columna\n",
    "ppna = round(100 * (df.isnull().sum(axis=0) / df.shape[0]), 2)  # Porcentaje de NAs\n",
    "\n",
    "# Crear un DataFrame para visualizar los resultados\n",
    "aux = {\n",
    "    'datos sin NAs en q': qsna,\n",
    "    'Na en q': qna,\n",
    "    'Na en %': ppna\n",
    "}\n",
    "na = pd.DataFrame(data=aux)\n",
    "\n",
    "# Ordenar el DataFrame por el porcentaje de NAs\n",
    "na_sorted = na.sort_values(by='Na en %', ascending=False)\n",
    "\n",
    "# Mostrar el DataFrame con el estado de los NAs\n",
    "print(na_sorted)"
   ]
  },
  {
   "cell_type": "markdown",
   "metadata": {},
   "source": [
    "* Los registros con TotalCharges = -1 corresponden a valores nulos y representan clientes que no han tenido cargos aplicables. Mantener estos registros en el dataset es fundamental para el análisis de churn, ya que permiten explorar características comunes entre clientes con ausencia de cargos, proporcionando un contexto valioso sobre la retención y abandono de clientes. En lugar de eliminarlos, convertiremos el valor a 0 para facilitar su manejo en análisis futuros, garantizando que no se pierda información relevante<br>\n",
    "* Se verifica tambien que los registros con valores igual a -1 en la columna \"TotalCharges\", son los registros que tienen valor igual a 0 en la columna \"tenure\" y columna \"churn\" igual a no."
   ]
  },
  {
   "cell_type": "code",
   "execution_count": null,
   "metadata": {},
   "outputs": [],
   "source": [
    "# Filtrar los registros donde 'TotalCharges' es igual a -1\n",
    "registros_nulos = df[df['TotalCharges'] == -1]\n",
    "\n",
    "# Mostrar los registros encontrados\n",
    "print(registros_nulos)\n"
   ]
  },
  {
   "cell_type": "code",
   "execution_count": null,
   "metadata": {},
   "outputs": [],
   "source": [
    "# Cambiar los valores -1 a 0 en la columna 'TotalCharges'\n",
    "df['TotalCharges'] = df['TotalCharges'].replace(-1, 0)\n",
    "\n",
    "# Verificar si hay valores -1 en la columna 'TotalCharges'\n",
    "valores_negativos = df['TotalCharges'][df['TotalCharges'] == -1]\n",
    "\n",
    "if not valores_negativos.empty:\n",
    "    print(f\"Se encontraron {valores_negativos.count()} valores -1 en 'TotalCharges':\")\n",
    "    print(valores_negativos)\n",
    "    \n",
    "    # Preguntar al usuario si desea cambiar los valores -1 a 0\n",
    "    respuesta = input(\"¿Deseas cambiar los valores -1 a 0 en 'TotalCharges'? (sí/no): \")\n",
    "    if respuesta.lower() in ['sí', 'si', 'yes']:\n",
    "        df['TotalCharges'] = df['TotalCharges'].replace(-1, 0)\n",
    "        print(\"Los valores -1 han sido cambiados a 0.\")\n",
    "    else:\n",
    "        print(\"No se realizaron cambios en la columna 'TotalCharges'.\")\n",
    "else:\n",
    "    print(\"No se encontraron valores -1 en 'TotalCharges'.\")\n"
   ]
  },
  {
   "cell_type": "code",
   "execution_count": null,
   "metadata": {},
   "outputs": [],
   "source": [
    "# Verificar si hay valores iguales a 0 en la columna 'MonthlyCharges'\n",
    "valores_cero = df[df['MonthlyCharges'] == 0]\n",
    "\n",
    "# Mostrar la cantidad de valores iguales a 0\n",
    "cantidad_ceros = valores_cero.shape[0]\n",
    "print(f\"Cantidad de valores iguales a 0 en 'MonthlyCharges': {cantidad_ceros}\")\n",
    "\n",
    "# Mostrar los registros que tienen MonthlyCharges = 0\n",
    "print(\"Registros con MonthlyCharges = 0:\")\n",
    "print(valores_cero)\n"
   ]
  },
  {
   "cell_type": "code",
   "execution_count": null,
   "metadata": {},
   "outputs": [],
   "source": [
    "# Reemplazar cadenas vacías en columnas de tipo string por NaN\n",
    "for col in df.select_dtypes(include='string').columns:\n",
    "    df[col] = df[col].replace(r'^\\s*$', pd.NA, regex=True)\n",
    "\n",
    "# Verificar el resultado\n",
    "print(df.isnull().sum())  # Para ver la cantidad de valores nulos por columna\n"
   ]
  },
  {
   "cell_type": "markdown",
   "metadata": {},
   "source": [
    "##### **Detección de datos anómalos**"
   ]
  },
  {
   "cell_type": "code",
   "execution_count": null,
   "metadata": {},
   "outputs": [],
   "source": [
    "# Validación 1: TotalCharges menor que MonthlyCharges * tenure\n",
    "df['TotalCharges'] = pd.to_numeric(df['TotalCharges'], errors='coerce')  # Convertir a numérico\n",
    "anomaly_total_charges = df[df['TotalCharges'] < df['MonthlyCharges'] * df['tenure']]\n",
    "\n",
    "# Validación 2: Todos los servicios son 'No' y Churn es 'No'\n",
    "anomaly_no_services = df[(df[['PhoneService', 'MultipleLines', 'InternetService', 'OnlineSecurity', \n",
    "                                'OnlineBackup', 'DeviceProtection', 'TechSupport', \n",
    "                                'StreamingTV', 'StreamingMovies']].eq('No').all(axis=1)) & \n",
    "                           (df['Churn'] == 'No')]\n",
    "\n",
    "# Validación 3: Tenure cero o negativo\n",
    "anomaly_tenure = df[df['tenure'] <= 0]\n",
    "\n",
    "# Validación 4: MonthlyCharges menor o igual a cero\n",
    "anomaly_monthly_charges = df[df['MonthlyCharges'] <= 0]\n",
    "\n",
    "# Validación 5: Churn es 'Yes' y tenure mayor que cero\n",
    "anomaly_churn_tenure = df[(df['Churn'] == 'Yes') & (df['tenure'] > 0)]\n",
    "\n",
    "# Validación 6: Valores faltantes en columnas críticas\n",
    "missing_values = df.isnull().sum()\n",
    "\n",
    "# Validación 7: TotalCharges debe ser numérico\n",
    "non_numeric_total_charges = df[~df['TotalCharges'].astype(str).str.replace('.', '', 1).str.isnumeric()]\n",
    "\n",
    "# Validación 8: Inconsistencias en el estado del cliente\n",
    "inconsistent_churn = df[(df['Churn'] == 'No') & \n",
    "                         (df[['PhoneService', 'MultipleLines', 'InternetService']].eq('No').all(axis=1))]\n",
    "\n",
    "# Mostrar conteos de anomalías\n",
    "print(\"Cantidad de anomalías:\")\n",
    "print(\"TotalCharges < MonthlyCharges * tenure:\", len(anomaly_total_charges))\n",
    "print(\"Todos los servicios son 'No' y Churn es 'No':\", len(anomaly_no_services))\n",
    "print(\"Tenure cero o negativo:\", len(anomaly_tenure))\n",
    "print(\"MonthlyCharges <= 0:\", len(anomaly_monthly_charges))\n",
    "print(\"Churn es 'Yes' y tenure > 0:\", len(anomaly_churn_tenure))\n",
    "print(\"Valores faltantes en columnas críticas:\", missing_values[missing_values > 0].sum())  # Solo muestra los totales de valores faltantes\n",
    "print(\"TotalCharges no numérico:\", len(non_numeric_total_charges))\n",
    "print(\"Inconsistencias en el estado del cliente:\", len(inconsistent_churn))\n"
   ]
  },
  {
   "cell_type": "markdown",
   "metadata": {},
   "source": [
    "Se procede a dejar la anomalia de \"TotalCharges\" bajo la consideracion de que podria tratarse de descuentos.<br>\n",
    "Bajo esa misma premisa, no se procede a ajustar los valores la columna \"TotalCharges\", imputando \"MonthlyCharges\" por \"tenure\", porque se consideran ajustes a la facturacion por metodo de pago o descuento a clientes u otro situacion particulacion como mora"
   ]
  },
  {
   "cell_type": "markdown",
   "metadata": {},
   "source": [
    "### Exploración de datos con Python:"
   ]
  },
  {
   "cell_type": "code",
   "execution_count": 35,
   "metadata": {},
   "outputs": [],
   "source": [
    "sns.set(style='whitegrid')"
   ]
  },
  {
   "cell_type": "markdown",
   "metadata": {},
   "source": [
    "### **Visualizaciones exploratorias univariadas:** \n",
    "Crea dos tipos diferentes de visualizaciones univariadas. Cada visualización debe incluir una breve interpretación dentro del archivo de código."
   ]
  },
  {
   "cell_type": "code",
   "execution_count": null,
   "metadata": {},
   "outputs": [],
   "source": [
    "#Visualización Univariada 1 - Histograma de MonthlyCharges\n",
    "plt.figure(figsize=(10, 6))\n",
    "sns.histplot(df['MonthlyCharges'], bins=30, kde=True, color='skyblue')\n",
    "plt.title('Distribución de Cargos Mensuales (MonthlyCharges)', fontsize=16)\n",
    "plt.xlabel('Cargos Mensuales', fontsize=14)\n",
    "plt.ylabel('Frecuencia', fontsize=14)\n",
    "plt.grid()\n",
    "\n",
    "# Interpretación\n",
    "plt.annotate('La mayoría de los clientes tiene cargos mensuales entre 20 y 100.\\n'\n",
    "             'Se observa una ligera inclinación hacia la derecha, sugiriendo que\\n'\n",
    "             'hay algunos clientes con cargos significativamente más altos.',\n",
    "             xy=(80, 400), xycoords='data', fontsize=12, color='black', \n",
    "             bbox=dict(boxstyle=\"round,pad=0.3\", edgecolor='black', facecolor='lightgrey'))\n",
    "\n",
    "plt.tight_layout()\n",
    "plt.show()"
   ]
  },
  {
   "cell_type": "code",
   "execution_count": null,
   "metadata": {},
   "outputs": [],
   "source": [
    "#Visualización Univariada 2 - Gráfico de Cajas (Boxplot) de TotalCharges\n",
    "plt.figure(figsize=(10, 6))\n",
    "sns.boxplot(x=df['TotalCharges'], color='lightgreen')\n",
    "plt.title('Boxplot de Cargos Totales (TotalCharges)', fontsize=16)\n",
    "plt.xlabel('Cargos Totales', fontsize=14)\n",
    "plt.grid()\n",
    "\n",
    "# Interpretación\n",
    "plt.annotate('El boxplot muestra que la mayoría de los cargos totales están\\n'\n",
    "             'concentrados entre 0 y 4000, con algunos valores atípicos.\\n'\n",
    "             'El rango intercuartílico es considerable, indicando variabilidad\\n'\n",
    "             'en los cargos totales de los clientes.', \n",
    "             xy=(5000, 0.25), xycoords='data', fontsize=12, color='black', \n",
    "             bbox=dict(boxstyle=\"round,pad=0.3\", edgecolor='black', facecolor='lightgrey'))\n",
    "\n",
    "plt.tight_layout()\n",
    "plt.show()"
   ]
  },
  {
   "cell_type": "code",
   "execution_count": null,
   "metadata": {},
   "outputs": [],
   "source": [
    "# Bloque 5: Visualización Univariada 3 - Gráfico de Barras de SeniorCitizen\n",
    "plt.figure(figsize=(10, 6))\n",
    "sns.countplot(x='SeniorCitizen', data=df, palette='pastel')\n",
    "plt.title('Cantidad de Clientes por Estado de Senior Citizen', fontsize=16)\n",
    "plt.xlabel('¿Es Ciudadano Senior?', fontsize=14)\n",
    "plt.ylabel('Cantidad de Clientes', fontsize=14)\n",
    "\n",
    "# Interpretación\n",
    "plt.annotate('La mayoría de los clientes no son ciudadanos senior, lo que\\n'\n",
    "             'sugiere que la base de clientes está compuesta principalmente\\n'\n",
    "             'por personas más jóvenes.', \n",
    "             xy=(0.5, 2500), xycoords='data', fontsize=12, color='black', \n",
    "             bbox=dict(boxstyle=\"round,pad=0.3\", edgecolor='black', facecolor='lightgrey'))\n",
    "\n",
    "plt.tight_layout()\n",
    "plt.show()"
   ]
  },
  {
   "cell_type": "markdown",
   "metadata": {},
   "source": [
    "### **Visualizaciones exploratorias multivariadas**\n",
    "Crear dos tipos diferentes de visualizaciones multivariadas. Cada visualización debe incluir una breve interpretación dentro del archivo de código."
   ]
  },
  {
   "cell_type": "code",
   "execution_count": null,
   "metadata": {},
   "outputs": [],
   "source": [
    "#Visualización Multivariada 1 - Gráfico de Dispersión (Scatter Plot)\n",
    "plt.figure(figsize=(10, 6))\n",
    "sns.scatterplot(x='tenure', y='MonthlyCharges', hue='Churn', data=df, palette='viridis', alpha=0.7)\n",
    "plt.title('Relación entre Tenencia y Cargos Mensuales', fontsize=16)\n",
    "plt.xlabel('Tenencia (Meses)', fontsize=14)\n",
    "plt.ylabel('Cargos Mensuales', fontsize=14)\n",
    "\n",
    "# Interpretación\n",
    "plt.annotate('Se observa que los clientes con menor tenencia tienden a tener\\n'\n",
    "             'cargos mensuales más altos y son más propensos a cancelar su servicio.\\n'\n",
    "             'A medida que aumenta la tenencia, los cargos mensuales tienden a\\n'\n",
    "             'disminuir, sugiriendo una lealtad creciente entre los clientes.', \n",
    "             xy=(10, 80), xycoords='data', fontsize=12, color='black', \n",
    "             bbox=dict(boxstyle=\"round,pad=0.3\", edgecolor='black', facecolor='lightgrey'))\n",
    "\n",
    "plt.tight_layout()\n",
    "plt.show()\n",
    "\n"
   ]
  },
  {
   "cell_type": "code",
   "execution_count": null,
   "metadata": {},
   "outputs": [],
   "source": [
    "#Visualización Multivariada 2 - Gráfico de Barras (Bar Plot)\n",
    "plt.figure(figsize=(10, 6))\n",
    "sns.countplot(x='Contract', hue='Churn', data=df, palette='pastel')\n",
    "plt.title('Número de Cancelaciones según Tipo de Contrato', fontsize=16)\n",
    "plt.xlabel('Tipo de Contrato', fontsize=14)\n",
    "plt.ylabel('Cantidad de Clientes', fontsize=14)\n",
    "\n",
    "# Interpretación\n",
    "plt.annotate('Los clientes con contratos de mes a mes tienen la tasa más alta de\\n'\n",
    "             'cancelación, mientras que los contratos de un año y dos años\\n'\n",
    "             'muestran una mayor retención de clientes.', \n",
    "             xy=(0.5, 200), xycoords='data', fontsize=12, color='black', \n",
    "             bbox=dict(boxstyle=\"round,pad=0.3\", edgecolor='black', facecolor='lightgrey'))\n",
    "\n",
    "plt.tight_layout()\n",
    "plt.show()"
   ]
  },
  {
   "cell_type": "markdown",
   "metadata": {},
   "source": [
    "### Análisis adicional:\n",
    "* **Estadísticas descriptivas:** Proporcionar un resumen estadístico del dataset, incluyendo medidas de tendencia central y dispersión para las variables numéricas.\n",
    "* **Identificación de tendencias:** Analizar y discutir cualquier tendencia notable que observes en los datos, apoyándote en las visualizaciones y estadísticas descriptivas."
   ]
  },
  {
   "cell_type": "code",
   "execution_count": null,
   "metadata": {},
   "outputs": [],
   "source": [
    "# Identificar columnas numéricas\n",
    "columnas_numericas = df.select_dtypes(include=[np.number]).columns.tolist()\n",
    "\n",
    "print(\"\\nColumnas numéricas identificadas:\")\n",
    "print(columnas_numericas)\n",
    "\n",
    "def calcular_estadisticas(column, data):\n",
    "    \"\"\"\n",
    "    Calcula estadísticas descriptivas para una columna numérica,\n",
    "    omitiendo los valores nulos.\n",
    "\n",
    "    Parámetros:\n",
    "    - column (str): Nombre de la columna.\n",
    "    - data (pd.Series): Serie de pandas con los datos de la columna.\n",
    "\n",
    "    Retorna:\n",
    "    - dict: Diccionario con las estadísticas calculadas.\n",
    "    \"\"\"\n",
    "    estadisticas = {\n",
    "        'Cuenta': int(np.sum(~np.isnan(data))),\n",
    "        'Media': np.nanmean(data),\n",
    "        'Mediana': np.nanmedian(data),\n",
    "        'Desviación Estándar': np.nanstd(data, ddof=1),\n",
    "        'Mínimo': np.nanmin(data),\n",
    "        'Máximo': np.nanmax(data),\n",
    "        '25% Percentil': np.nanpercentile(data, 25),\n",
    "        '75% Percentil': np.nanpercentile(data, 75)\n",
    "    }\n",
    "    return estadisticas\n",
    "\n",
    "# Crear un diccionario para almacenar las estadísticas\n",
    "estadisticas_dict = {}\n",
    "\n",
    "# Iterar sobre cada columna numérica y calcular las estadísticas\n",
    "for columna in columnas_numericas:\n",
    "    datos_columna = df[columna].values\n",
    "    estadisticas = calcular_estadisticas(columna, datos_columna)\n",
    "    estadisticas_dict[columna] = estadisticas\n",
    "\n",
    "# Convertir el diccionario a un DataFrame para una mejor visualización\n",
    "estadisticas_df = pd.DataFrame(estadisticas_dict).T  # Transponer para que las columnas sean las filas\n",
    "estadisticas_df = estadisticas_df[['Cuenta', 'Media', 'Mediana', 'Desviación Estándar', \n",
    "                                   'Mínimo', 'Máximo', '25% Percentil', '75% Percentil']]\n",
    "\n",
    "# Redondear las estadísticas a 2 decimales\n",
    "estadisticas_df = estadisticas_df.round(2)\n",
    "\n",
    "# Mostrar el DataFrame formateado\n",
    "print(\"\\nEstadísticas Descriptivas (Redondeadas a 2 decimales):\")\n",
    "print(estadisticas_df)\n"
   ]
  },
  {
   "cell_type": "markdown",
   "metadata": {},
   "source": [
    "##### Variables\n",
    "* **SeniorCitizen:** Indica si el cliente es un ciudadano de la tercera edad (1) o no (0).\n",
    "* **tenure:** Representa el número de meses que el cliente ha estado suscrito al servicio.\n",
    "* **MonthlyCharges:** Es el monto que el cliente paga mensualmente por el servicio.\n",
    "* **TotalCharges:** Es el cargo total acumulado por el cliente hasta la fecha.\n",
    "\n",
    "##### Análisis de las Estadísticas Descriptivas:\n",
    "* **SeniorCitizen:**<br>\n",
    "La mayoría de los clientes (aproximadamente 84%) no son de la tercera edad.<br>\n",
    "* **tenure:**<br>\n",
    "En promedio, los clientes llevan suscritos al servicio alrededor de 32 meses.<br>\n",
    "La mitad de los clientes lleva menos de 29 meses y la otra mitad más de 29 meses.<br>\n",
    "Hay una gran variabilidad en la tenencia, con clientes desde los 0 meses hasta los 72 meses.\n",
    "* **MonthlyCharges:**<br>\n",
    "El cargo mensual promedio es de $64.76.<br>\n",
    "La mitad de los clientes pagan menos de $70.35 al mes y la otra mitad más.<br>\n",
    "El rango de cargos mensuales es bastante amplio, desde $18.25 hasta $118.75.\n",
    "* **TotalCharges:**<br>\n",
    "El cargo total promedio es de $2279.73.<br>\n",
    "Hay una gran dispersión en los cargos totales, con un mínimo de $0 y un máximo de $8684.80.<br>\n",
    "La mediana es significativamente menor que la media, lo que sugiere que hay algunos clientes con cargos totales muy altos que están elevando el promedio."
   ]
  },
  {
   "cell_type": "code",
   "execution_count": null,
   "metadata": {},
   "outputs": [],
   "source": [
    "# Identificar columnas numéricas\n",
    "columnas_numericas = df.select_dtypes(include=[np.number]).columns.tolist()\n",
    "\n",
    "# Calcular la matriz de correlación utilizando Pearson\n",
    "matriz_correlacion = df[columnas_numericas].corr(method='pearson')\n",
    "\n",
    "# Mostrar la matriz de correlación\n",
    "print(\"\\nMatriz de Correlación (Pearson):\")\n",
    "print(matriz_correlacion)\n",
    "\n",
    "# Configurar el tamaño de la figura\n",
    "plt.figure(figsize=(12, 10))\n",
    "\n",
    "# Crear el heatmap utilizando seaborn\n",
    "sns.heatmap(matriz_correlacion, annot=True, fmt=\".2f\", cmap='coolwarm', linewidths=0.5)\n",
    "\n",
    "# Añadir títulos y etiquetas\n",
    "plt.title('Matriz de Correlación entre Variables Numéricas', fontsize=16)\n",
    "plt.xticks(rotation=45, ha='right')\n",
    "plt.yticks(rotation=0)\n",
    "\n",
    "# Mostrar el gráfico\n",
    "plt.tight_layout()\n",
    "plt.show()"
   ]
  },
  {
   "cell_type": "markdown",
   "metadata": {},
   "source": [
    "##### Interpretacion \n",
    "* **SeniorCitizen**\n",
    "Tiene una correlación positiva muy débil con la antigüedad (0,02). Esto sugiere que ser una persona mayor tiene un impacto insignificante en la duración del servicio.<br>\n",
    "Tiene una correlación positiva moderada con MonthlyCharges (0,22). Esto indica que los adultos mayores tienden a tener cargos mensuales ligeramente más altos en comparación con los adultos mayores.<br>\n",
    "Tiene una correlación positiva débil con TotalCharges (0,10). Esto sugiere que los adultos mayores tienden a tener cargos totales ligeramente más altos, probablemente debido a su mayor permanencia en el empleo y a cargos mensuales más elevados.\n",
    "* **Tenure**\n",
    "Tiene una fuerte correlación positiva con TotalCharges (0,83). Esto tiene sentido, ya que cuanto más tiempo se quede un cliente, mayores serán sus cargos totales.<br>\n",
    "Tiene una correlación positiva moderada con MonthlyCharges (0,25). Esto sugiere que los clientes con mayor antigüedad tienden a tener cargos mensuales ligeramente más altos.\n",
    "* **MonthlyCharges**<br>\n",
    "Tiene una correlación positiva moderada con TotalCharges (0,65). Esto indica que los clientes con cargos mensuales más altos tienden a tener cargos totales más altos.<br>\n",
    "\n",
    "**Observaciones generales**\n",
    "* Seniority y TotalCharges: la correlación más fuerte es entre la antigüedad y los cargos totales, lo cual es esperado.\n",
    "* SeniorCitizen: Si bien ser una persona mayor tiene cierto impacto en los cargos mensuales y totales, las correlaciones son relativamente débiles.\n",
    "* MonthlyCharges: Los cargos mensuales tienen un impacto moderado en los cargos totales.\n",
    "\n",
    "**Consideraciones adicionales**\n",
    "* La correlación no implica causalidad: aunque la matriz muestra relaciones entre variables, no significa necesariamente que una variable cause la otra.\n",
    "* Otros factores: Puede haber otros factores que influyan en estas relaciones que no están capturados en esta matriz."
   ]
  },
  {
   "cell_type": "markdown",
   "metadata": {},
   "source": [
    "\n",
    "### Entrega\n",
    "* Un archivo .ipynb claramente comentado con todo el código utilizado para la limpieza y exploración de datos. Para cumplir con los requisitos anteriores, este archivo tendrá un mínimo de 4 visualizaciones.\n",
    "* Subir un repositorio a una plataforma de control de versiones (por ejemplo, GitHub) con un TAG incluido para verificar la fecha de entrega. El repositorio debe contener el archivo .ipynb.\n",
    "* **NOTA:** Debes enviar un archivo y un enlace al repositorio con el TAG correspondiente. Las presentaciones de enlaces sin el archivo o sin el TAG serán consideradas no presentadas.\n",
    "\n",
    "### Notas\n",
    "* Para evitar que otros estudiantes copien tu trabajo, asegúrate de que el código no esté guardado en un repositorio público.\n",
    "Para minimizar la deducción de puntos, asegúrate de cargar los requisitos completos.\n",
    "* Si tienes problemas para cargar archivos en la aplicación de exámenes, por favor NO desbloquees otro examen. Envía el archivo por correo electrónico a tu instructor.\n",
    "* Puedes usar cualquier recurso que tengas disponible (notas de clase, Google, Stackoverflow, etc.) – PERO DEBES CITAR CUALQUIER FUENTE UTILIZADA. Puedes citar fuentes en forma de comentario de código o una celda de texto con enlaces a cualquier recurso que hayas utilizado. La falta de citas será considerada plagio y resultará en la falla del examen.\n",
    "* No puedes recibir ayuda de ninguna otra persona en este código. Esto incluye compañeros de clase, exalumnos, tu instructor, etc. La colaboración con otra persona en este examen será considerada plagio y resultará en la falla del examen y puede resultar en la expulsión del programa.\n",
    "* Se permite el uso de LLM (Copilot, GPT, etc.), pero solo como guía o para depuración. Se espera que los estudiantes pongan su máximo esfuerzo."
   ]
  }
 ],
 "metadata": {
  "kernelspec": {
   "display_name": "Python 3",
   "language": "python",
   "name": "python3"
  },
  "language_info": {
   "codemirror_mode": {
    "name": "ipython",
    "version": 3
   },
   "file_extension": ".py",
   "mimetype": "text/x-python",
   "name": "python",
   "nbconvert_exporter": "python",
   "pygments_lexer": "ipython3",
   "version": "3.13.0"
  }
 },
 "nbformat": 4,
 "nbformat_minor": 2
}
